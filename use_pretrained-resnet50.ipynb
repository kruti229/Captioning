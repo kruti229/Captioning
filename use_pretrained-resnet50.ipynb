{
 "cells": [
  {
   "cell_type": "code",
   "execution_count": 1,
   "id": "7287016e",
   "metadata": {},
   "outputs": [],
   "source": [
    "import cv2\n",
    "import numpy as np\n",
    "import tensorflow as tf\n",
    "from tensorflow.keras.applications.resnet50 import ResNet50, preprocess_input\n",
    "from tensorflow.keras.applications.inception_v3 import InceptionV3\n",
    "from transformers import VisionEncoderDecoderModel, ViTFeatureExtractor, AutoTokenizer\n"
   ]
  },
  {
   "cell_type": "code",
   "execution_count": 2,
   "id": "7041e3ef",
   "metadata": {},
   "outputs": [],
   "source": [
    "# Load pre-trained models\n",
    "scene_recognition_model = ResNet50(weights='imagenet')\n"
   ]
  },
  {
   "cell_type": "code",
   "execution_count": 3,
   "id": "1c105d9d",
   "metadata": {},
   "outputs": [],
   "source": [
    "# !pip install --upgrade keras"
   ]
  },
  {
   "cell_type": "code",
   "execution_count": 4,
   "id": "5a09e8ff",
   "metadata": {},
   "outputs": [],
   "source": [
    "import keras\n",
    "action_recognition_model = keras.applications.InceptionV3(include_top=True,weights=\"imagenet\",input_tensor=None,input_shape=None,pooling=None,classes=1000,classifier_activation=\"softmax\",)\n"
   ]
  },
  {
   "cell_type": "code",
   "execution_count": 5,
   "id": "fe3138eb",
   "metadata": {},
   "outputs": [
    {
     "name": "stderr",
     "output_type": "stream",
     "text": [
      "C:\\Users\\kruti\\anaconda3\\lib\\site-packages\\transformers\\models\\vit\\feature_extraction_vit.py:28: FutureWarning: The class ViTFeatureExtractor is deprecated and will be removed in version 5 of Transformers. Please use ViTImageProcessor instead.\n",
      "  warnings.warn(\n"
     ]
    }
   ],
   "source": [
    "feature_extractor = ViTFeatureExtractor.from_pretrained('google/vit-base-patch16-224-in21k')\n"
   ]
  },
  {
   "cell_type": "code",
   "execution_count": 6,
   "id": "1975448d",
   "metadata": {},
   "outputs": [],
   "source": [
    "# !pip install transformers"
   ]
  },
  {
   "cell_type": "code",
   "execution_count": 7,
   "id": "f202c7a8",
   "metadata": {},
   "outputs": [],
   "source": [
    "# tokenizer = AutoTokenizer.from_pretrained('google/vit-base-patch16-224-in21k')\n",
    "# from transformers import AutoModelForVisionClassification\n",
    "\n",
    "# tokenizer = AutoModelForVisionClassification.from_pretrained('google/vit-base-patch16-224-in21k')\n",
    "\n"
   ]
  },
  {
   "cell_type": "code",
   "execution_count": 8,
   "id": "d7b774bc",
   "metadata": {},
   "outputs": [
    {
     "name": "stderr",
     "output_type": "stream",
     "text": [
      "Some weights of the model checkpoint at nlpconnect/vit-gpt2-image-captioning were not used when initializing VisionEncoderDecoderModel: ['decoder.transformer.h.11.crossattention.bias', 'decoder.transformer.h.5.crossattention.masked_bias', 'decoder.transformer.h.7.attn.bias', 'decoder.transformer.h.1.attn.masked_bias', 'decoder.transformer.h.11.attn.bias', 'decoder.transformer.h.5.crossattention.bias', 'decoder.transformer.h.8.crossattention.masked_bias', 'decoder.transformer.h.2.attn.bias', 'decoder.transformer.h.8.crossattention.bias', 'decoder.transformer.h.0.crossattention.masked_bias', 'decoder.transformer.h.10.crossattention.bias', 'decoder.transformer.h.2.crossattention.masked_bias', 'decoder.transformer.h.11.attn.masked_bias', 'decoder.transformer.h.9.crossattention.bias', 'decoder.transformer.h.9.attn.masked_bias', 'decoder.transformer.h.0.crossattention.bias', 'decoder.transformer.h.10.attn.bias', 'decoder.transformer.h.4.attn.masked_bias', 'decoder.transformer.h.3.crossattention.bias', 'decoder.transformer.h.4.attn.bias', 'decoder.transformer.h.5.attn.bias', 'decoder.transformer.h.8.attn.bias', 'decoder.transformer.h.1.crossattention.bias', 'decoder.transformer.h.6.attn.bias', 'decoder.transformer.h.10.crossattention.masked_bias', 'decoder.transformer.h.1.crossattention.masked_bias', 'decoder.transformer.h.6.crossattention.masked_bias', 'decoder.transformer.h.7.attn.masked_bias', 'decoder.transformer.h.6.crossattention.bias', 'decoder.transformer.h.3.attn.masked_bias', 'decoder.transformer.h.6.attn.masked_bias', 'decoder.transformer.h.3.crossattention.masked_bias', 'decoder.transformer.h.8.attn.masked_bias', 'decoder.transformer.h.11.crossattention.masked_bias', 'decoder.transformer.h.5.attn.masked_bias', 'decoder.transformer.h.7.crossattention.masked_bias', 'decoder.transformer.h.2.crossattention.bias', 'decoder.transformer.h.3.attn.bias', 'decoder.transformer.h.2.attn.masked_bias', 'decoder.transformer.h.9.attn.bias', 'decoder.transformer.h.10.attn.masked_bias', 'decoder.transformer.h.0.attn.masked_bias', 'decoder.transformer.h.0.attn.bias', 'decoder.transformer.h.9.crossattention.masked_bias', 'decoder.transformer.h.7.crossattention.bias', 'decoder.transformer.h.4.crossattention.masked_bias', 'decoder.transformer.h.1.attn.bias', 'decoder.transformer.h.4.crossattention.bias']\n",
      "- This IS expected if you are initializing VisionEncoderDecoderModel from the checkpoint of a model trained on another task or with another architecture (e.g. initializing a BertForSequenceClassification model from a BertForPreTraining model).\n",
      "- This IS NOT expected if you are initializing VisionEncoderDecoderModel from the checkpoint of a model that you expect to be exactly identical (initializing a BertForSequenceClassification model from a BertForSequenceClassification model).\n"
     ]
    }
   ],
   "source": [
    "caption_generation_model = VisionEncoderDecoderModel.from_pretrained('nlpconnect/vit-gpt2-image-captioning')\n"
   ]
  },
  {
   "cell_type": "code",
   "execution_count": 9,
   "id": "ac4d9489",
   "metadata": {},
   "outputs": [],
   "source": [
    "def extract_frames(video_path, frame_rate, batch_size=32):\n",
    "    vidcap = cv2.VideoCapture(video_path)\n",
    "    frames = []\n",
    "    success, image = vidcap.read()\n",
    "    count = 0\n",
    "    while success:\n",
    "        if count % frame_rate == 0:\n",
    "            frames.append(image)\n",
    "        if len(frames) == batch_size:\n",
    "            yield frames\n",
    "            frames = []\n",
    "        success, image = vidcap.read()\n",
    "        count += 1\n",
    "    if frames:\n",
    "        yield frames"
   ]
  },
  {
   "cell_type": "code",
   "execution_count": 10,
   "id": "d0514fd9",
   "metadata": {},
   "outputs": [],
   "source": [
    "with open('D:/m.tech/data/Data Set/942d3a0ac09ec9e5eb3a-238f720ff059c1f82f368259d1ca4ffa5dd8f9f5/imagenet1000_clsidx_to_labels.txt', 'r') as f:\n",
    "    class_labels = [line.strip() for line in f.readlines()]\n",
    "def recognize_scene(frame):\n",
    "    # Resize the frame to the expected input shape of the model\n",
    "    frame = cv2.resize(frame, (224, 224))\n",
    "\n",
    "    x = preprocess_input(np.expand_dims(frame.copy(), axis=0))\n",
    "    preds = scene_recognition_model.predict(x)\n",
    "    top_class_idx = np.argmax(preds)\n",
    "    top_class_label = class_labels[top_class_idx]\n",
    "\n",
    "    return top_class_label"
   ]
  },
  {
   "cell_type": "code",
   "execution_count": 11,
   "id": "df32c38a",
   "metadata": {},
   "outputs": [],
   "source": [
    "def recognize_action(frames):\n",
    "    # Resize each frame individually\n",
    "    resized_frames = [cv2.resize(frame, (299, 299)) for frame in frames]\n",
    "\n",
    "    inputs = np.stack([preprocess_input(frame.copy()) for frame in resized_frames])\n",
    "    preds = action_recognition_model.predict(inputs)\n",
    "\n",
    "    # Assuming the action_recognition_model is the InceptionV3 model\n",
    "    # You'll need to replace this line with the appropriate way to get the class label\n",
    "    top_class_idx = np.argmax(preds)\n",
    "    action_label = class_labels[top_class_idx]  # Replace with the appropriate class labels list\n",
    "\n",
    "    return action_label"
   ]
  },
  {
   "cell_type": "code",
   "execution_count": 12,
   "id": "ab65e473",
   "metadata": {},
   "outputs": [],
   "source": [
    "from transformers import AutoTokenizer\n",
    "\n",
    "# Load tokenizer\n",
    "tokenizer = AutoTokenizer.from_pretrained('nlpconnect/vit-gpt2-image-captioning')"
   ]
  },
  {
   "cell_type": "code",
   "execution_count": 13,
   "id": "fbec4ef4",
   "metadata": {},
   "outputs": [
    {
     "name": "stderr",
     "output_type": "stream",
     "text": [
      "Some weights of the model checkpoint at nlpconnect/vit-gpt2-image-captioning were not used when initializing VisionEncoderDecoderModel: ['decoder.transformer.h.11.crossattention.bias', 'decoder.transformer.h.5.crossattention.masked_bias', 'decoder.transformer.h.7.attn.bias', 'decoder.transformer.h.1.attn.masked_bias', 'decoder.transformer.h.11.attn.bias', 'decoder.transformer.h.5.crossattention.bias', 'decoder.transformer.h.8.crossattention.masked_bias', 'decoder.transformer.h.2.attn.bias', 'decoder.transformer.h.8.crossattention.bias', 'decoder.transformer.h.0.crossattention.masked_bias', 'decoder.transformer.h.10.crossattention.bias', 'decoder.transformer.h.2.crossattention.masked_bias', 'decoder.transformer.h.11.attn.masked_bias', 'decoder.transformer.h.9.crossattention.bias', 'decoder.transformer.h.9.attn.masked_bias', 'decoder.transformer.h.0.crossattention.bias', 'decoder.transformer.h.10.attn.bias', 'decoder.transformer.h.4.attn.masked_bias', 'decoder.transformer.h.3.crossattention.bias', 'decoder.transformer.h.4.attn.bias', 'decoder.transformer.h.5.attn.bias', 'decoder.transformer.h.8.attn.bias', 'decoder.transformer.h.1.crossattention.bias', 'decoder.transformer.h.6.attn.bias', 'decoder.transformer.h.10.crossattention.masked_bias', 'decoder.transformer.h.1.crossattention.masked_bias', 'decoder.transformer.h.6.crossattention.masked_bias', 'decoder.transformer.h.7.attn.masked_bias', 'decoder.transformer.h.6.crossattention.bias', 'decoder.transformer.h.3.attn.masked_bias', 'decoder.transformer.h.6.attn.masked_bias', 'decoder.transformer.h.3.crossattention.masked_bias', 'decoder.transformer.h.8.attn.masked_bias', 'decoder.transformer.h.11.crossattention.masked_bias', 'decoder.transformer.h.5.attn.masked_bias', 'decoder.transformer.h.7.crossattention.masked_bias', 'decoder.transformer.h.2.crossattention.bias', 'decoder.transformer.h.3.attn.bias', 'decoder.transformer.h.2.attn.masked_bias', 'decoder.transformer.h.9.attn.bias', 'decoder.transformer.h.10.attn.masked_bias', 'decoder.transformer.h.0.attn.masked_bias', 'decoder.transformer.h.0.attn.bias', 'decoder.transformer.h.9.crossattention.masked_bias', 'decoder.transformer.h.7.crossattention.bias', 'decoder.transformer.h.4.crossattention.masked_bias', 'decoder.transformer.h.1.attn.bias', 'decoder.transformer.h.4.crossattention.bias']\n",
      "- This IS expected if you are initializing VisionEncoderDecoderModel from the checkpoint of a model trained on another task or with another architecture (e.g. initializing a BertForSequenceClassification model from a BertForPreTraining model).\n",
      "- This IS NOT expected if you are initializing VisionEncoderDecoderModel from the checkpoint of a model that you expect to be exactly identical (initializing a BertForSequenceClassification model from a BertForSequenceClassification model).\n"
     ]
    }
   ],
   "source": [
    "caption_generation_model = VisionEncoderDecoderModel.from_pretrained('nlpconnect/vit-gpt2-image-captioning')\n",
    "tokenizer = AutoTokenizer.from_pretrained('nlpconnect/vit-gpt2-image-captioning')"
   ]
  },
  {
   "cell_type": "code",
   "execution_count": 14,
   "id": "208126b5",
   "metadata": {},
   "outputs": [],
   "source": [
    "def generate_caption(frames, scene_labels, action_label):\n",
    "    pixel_values = feature_extractor(images=frames, return_tensors='pt').pixel_values\n",
    "    output_ids = caption_generation_model.generate(pixel_values, max_length=50, num_beams=4, early_stopping=True)\n",
    "    caption = tokenizer.decode(output_ids[0], skip_special_tokens=True)\n",
    "    return f\"Scene: {scene_labels} | Action: {action_label} | Caption: {caption}\""
   ]
  },
  {
   "cell_type": "code",
   "execution_count": 15,
   "id": "e38df606",
   "metadata": {},
   "outputs": [],
   "source": [
    "def process_video(video_path, frame_rate=30, batch_size=32):\n",
    "    frames_generator = extract_frames(video_path, frame_rate, batch_size)\n",
    "    captions = []\n",
    "    for frames in frames_generator:\n",
    "        scene_labels = [recognize_scene(frame) for frame in frames]\n",
    "        action_label = recognize_action(frames)\n",
    "        caption = generate_caption(frames, scene_labels, action_label)\n",
    "        captions.append(caption)\n",
    "    return '\\n'.join(captions)"
   ]
  },
  {
   "cell_type": "code",
   "execution_count": 17,
   "id": "62584942",
   "metadata": {},
   "outputs": [
    {
     "name": "stdout",
     "output_type": "stream",
     "text": [
      "\u001b[1m1/1\u001b[0m \u001b[32m━━━━━━━━━━━━━━━━━━━━\u001b[0m\u001b[37m\u001b[0m \u001b[1m0s\u001b[0m 346ms/step\n",
      "\u001b[1m1/1\u001b[0m \u001b[32m━━━━━━━━━━━━━━━━━━━━\u001b[0m\u001b[37m\u001b[0m \u001b[1m0s\u001b[0m 282ms/step\n",
      "\u001b[1m1/1\u001b[0m \u001b[32m━━━━━━━━━━━━━━━━━━━━\u001b[0m\u001b[37m\u001b[0m \u001b[1m0s\u001b[0m 330ms/step\n",
      "\u001b[1m1/1\u001b[0m \u001b[32m━━━━━━━━━━━━━━━━━━━━\u001b[0m\u001b[37m\u001b[0m \u001b[1m0s\u001b[0m 283ms/step\n",
      "\u001b[1m1/1\u001b[0m \u001b[32m━━━━━━━━━━━━━━━━━━━━\u001b[0m\u001b[37m\u001b[0m \u001b[1m0s\u001b[0m 298ms/step\n",
      "\u001b[1m1/1\u001b[0m \u001b[32m━━━━━━━━━━━━━━━━━━━━\u001b[0m\u001b[37m\u001b[0m \u001b[1m0s\u001b[0m 251ms/step\n",
      "\u001b[1m1/1\u001b[0m \u001b[32m━━━━━━━━━━━━━━━━━━━━\u001b[0m\u001b[37m\u001b[0m \u001b[1m0s\u001b[0m 456ms/step\n",
      "\u001b[1m1/1\u001b[0m \u001b[32m━━━━━━━━━━━━━━━━━━━━\u001b[0m\u001b[37m\u001b[0m \u001b[1m0s\u001b[0m 365ms/step\n",
      "\u001b[1m1/1\u001b[0m \u001b[32m━━━━━━━━━━━━━━━━━━━━\u001b[0m\u001b[37m\u001b[0m \u001b[1m0s\u001b[0m 267ms/step\n",
      "\u001b[1m1/1\u001b[0m \u001b[32m━━━━━━━━━━━━━━━━━━━━\u001b[0m\u001b[37m\u001b[0m \u001b[1m0s\u001b[0m 251ms/step\n",
      "\u001b[1m1/1\u001b[0m \u001b[32m━━━━━━━━━━━━━━━━━━━━\u001b[0m\u001b[37m\u001b[0m \u001b[1m0s\u001b[0m 252ms/step\n",
      "\u001b[1m1/1\u001b[0m \u001b[32m━━━━━━━━━━━━━━━━━━━━\u001b[0m\u001b[37m\u001b[0m \u001b[1m0s\u001b[0m 283ms/step\n",
      "\u001b[1m1/1\u001b[0m \u001b[32m━━━━━━━━━━━━━━━━━━━━\u001b[0m\u001b[37m\u001b[0m \u001b[1m0s\u001b[0m 399ms/step\n",
      "\u001b[1m1/1\u001b[0m \u001b[32m━━━━━━━━━━━━━━━━━━━━\u001b[0m\u001b[37m\u001b[0m \u001b[1m8s\u001b[0m 8s/step\n",
      "Scene: [\"703: 'park bench',\", \"837: 'sunglasses, dark glasses, shades',\", \"837: 'sunglasses, dark glasses, shades',\", \"936: 'head cabbage',\", \"796: 'ski mask',\", \"744: 'projectile, missile',\", \"416: 'balance beam, beam',\", \"657: 'missile',\", \"416: 'balance beam, beam',\", \"416: 'balance beam, beam',\", \"150: 'sea lion',\", \"399: 'abaya',\", \"389: 'barracouta, snoek',\"] | Action: 916: 'web site, website, internet site, site', | Caption: a man riding on the back of a brown horse \n"
     ]
    }
   ],
   "source": [
    "video_path = 'D:/m.tech/data/Data Set/MSRVTT/videos/all/video547.mp4'\n",
    "caption = process_video(video_path)\n",
    "print(caption)"
   ]
  },
  {
   "cell_type": "code",
   "execution_count": 17,
   "id": "a8a2283e",
   "metadata": {},
   "outputs": [
    {
     "name": "stdout",
     "output_type": "stream",
     "text": [
      "\u001b[1m1/1\u001b[0m \u001b[32m━━━━━━━━━━━━━━━━━━━━\u001b[0m\u001b[37m\u001b[0m \u001b[1m0s\u001b[0m 300ms/step\n",
      "\u001b[1m1/1\u001b[0m \u001b[32m━━━━━━━━━━━━━━━━━━━━\u001b[0m\u001b[37m\u001b[0m \u001b[1m0s\u001b[0m 349ms/step\n",
      "\u001b[1m1/1\u001b[0m \u001b[32m━━━━━━━━━━━━━━━━━━━━\u001b[0m\u001b[37m\u001b[0m \u001b[1m0s\u001b[0m 285ms/step\n",
      "\u001b[1m1/1\u001b[0m \u001b[32m━━━━━━━━━━━━━━━━━━━━\u001b[0m\u001b[37m\u001b[0m \u001b[1m0s\u001b[0m 283ms/step\n",
      "\u001b[1m1/1\u001b[0m \u001b[32m━━━━━━━━━━━━━━━━━━━━\u001b[0m\u001b[37m\u001b[0m \u001b[1m0s\u001b[0m 375ms/step\n",
      "\u001b[1m1/1\u001b[0m \u001b[32m━━━━━━━━━━━━━━━━━━━━\u001b[0m\u001b[37m\u001b[0m \u001b[1m0s\u001b[0m 380ms/step\n",
      "\u001b[1m1/1\u001b[0m \u001b[32m━━━━━━━━━━━━━━━━━━━━\u001b[0m\u001b[37m\u001b[0m \u001b[1m0s\u001b[0m 283ms/step\n",
      "\u001b[1m1/1\u001b[0m \u001b[32m━━━━━━━━━━━━━━━━━━━━\u001b[0m\u001b[37m\u001b[0m \u001b[1m0s\u001b[0m 315ms/step\n",
      "\u001b[1m1/1\u001b[0m \u001b[32m━━━━━━━━━━━━━━━━━━━━\u001b[0m\u001b[37m\u001b[0m \u001b[1m0s\u001b[0m 334ms/step\n",
      "\u001b[1m1/1\u001b[0m \u001b[32m━━━━━━━━━━━━━━━━━━━━\u001b[0m\u001b[37m\u001b[0m \u001b[1m0s\u001b[0m 326ms/step\n",
      "\u001b[1m1/1\u001b[0m \u001b[32m━━━━━━━━━━━━━━━━━━━━\u001b[0m\u001b[37m\u001b[0m \u001b[1m0s\u001b[0m 334ms/step\n",
      "\u001b[1m1/1\u001b[0m \u001b[32m━━━━━━━━━━━━━━━━━━━━\u001b[0m\u001b[37m\u001b[0m \u001b[1m0s\u001b[0m 284ms/step\n",
      "\u001b[1m1/1\u001b[0m \u001b[32m━━━━━━━━━━━━━━━━━━━━\u001b[0m\u001b[37m\u001b[0m \u001b[1m0s\u001b[0m 283ms/step\n",
      "\u001b[1m1/1\u001b[0m \u001b[32m━━━━━━━━━━━━━━━━━━━━\u001b[0m\u001b[37m\u001b[0m \u001b[1m3s\u001b[0m 3s/step\n",
      "Scene: [\"851: 'television, television system',\", \"851: 'television, television system',\", \"851: 'television, television system',\", \"851: 'television, television system',\", \"851: 'television, television system',\", \"851: 'television, television system',\", \"851: 'television, television system',\", \"851: 'television, television system',\", \"851: 'television, television system',\", \"851: 'television, television system',\", \"851: 'television, television system',\", \"851: 'television, television system',\", \"880: 'unicycle, monocycle',\"] | Action: 826: 'stopwatch, stop watch', | Caption: a man on a skateboard in front of a crowd \n"
     ]
    }
   ],
   "source": [
    "video_path = 'D:/m.tech/data/Data Set/MSRVTT/videos/all/video1017.mp4'\n",
    "caption = process_video(video_path)\n",
    "print(caption)"
   ]
  },
  {
   "cell_type": "code",
   "execution_count": 22,
   "id": "265ae2ea",
   "metadata": {},
   "outputs": [
    {
     "name": "stdout",
     "output_type": "stream",
     "text": [
      "\u001b[1m1/1\u001b[0m \u001b[32m━━━━━━━━━━━━━━━━━━━━\u001b[0m\u001b[37m\u001b[0m \u001b[1m0s\u001b[0m 284ms/step\n",
      "\u001b[1m1/1\u001b[0m \u001b[32m━━━━━━━━━━━━━━━━━━━━\u001b[0m\u001b[37m\u001b[0m \u001b[1m0s\u001b[0m 485ms/step\n",
      "\u001b[1m1/1\u001b[0m \u001b[32m━━━━━━━━━━━━━━━━━━━━\u001b[0m\u001b[37m\u001b[0m \u001b[1m0s\u001b[0m 251ms/step\n",
      "\u001b[1m1/1\u001b[0m \u001b[32m━━━━━━━━━━━━━━━━━━━━\u001b[0m\u001b[37m\u001b[0m \u001b[1m0s\u001b[0m 267ms/step\n",
      "\u001b[1m1/1\u001b[0m \u001b[32m━━━━━━━━━━━━━━━━━━━━\u001b[0m\u001b[37m\u001b[0m \u001b[1m0s\u001b[0m 267ms/step\n",
      "\u001b[1m1/1\u001b[0m \u001b[32m━━━━━━━━━━━━━━━━━━━━\u001b[0m\u001b[37m\u001b[0m \u001b[1m0s\u001b[0m 253ms/step\n",
      "\u001b[1m1/1\u001b[0m \u001b[32m━━━━━━━━━━━━━━━━━━━━\u001b[0m\u001b[37m\u001b[0m \u001b[1m0s\u001b[0m 252ms/step\n",
      "\u001b[1m1/1\u001b[0m \u001b[32m━━━━━━━━━━━━━━━━━━━━\u001b[0m\u001b[37m\u001b[0m \u001b[1m0s\u001b[0m 267ms/step\n",
      "\u001b[1m1/1\u001b[0m \u001b[32m━━━━━━━━━━━━━━━━━━━━\u001b[0m\u001b[37m\u001b[0m \u001b[1m0s\u001b[0m 298ms/step\n",
      "\u001b[1m1/1\u001b[0m \u001b[32m━━━━━━━━━━━━━━━━━━━━\u001b[0m\u001b[37m\u001b[0m \u001b[1m0s\u001b[0m 314ms/step\n",
      "\u001b[1m1/1\u001b[0m \u001b[32m━━━━━━━━━━━━━━━━━━━━\u001b[0m\u001b[37m\u001b[0m \u001b[1m0s\u001b[0m 267ms/step\n",
      "\u001b[1m1/1\u001b[0m \u001b[32m━━━━━━━━━━━━━━━━━━━━\u001b[0m\u001b[37m\u001b[0m \u001b[1m0s\u001b[0m 252ms/step\n",
      "\u001b[1m1/1\u001b[0m \u001b[32m━━━━━━━━━━━━━━━━━━━━\u001b[0m\u001b[37m\u001b[0m \u001b[1m0s\u001b[0m 252ms/step\n",
      "\u001b[1m1/1\u001b[0m \u001b[32m━━━━━━━━━━━━━━━━━━━━\u001b[0m\u001b[37m\u001b[0m \u001b[1m0s\u001b[0m 252ms/step\n",
      "\u001b[1m1/1\u001b[0m \u001b[32m━━━━━━━━━━━━━━━━━━━━\u001b[0m\u001b[37m\u001b[0m \u001b[1m0s\u001b[0m 284ms/step\n",
      "\u001b[1m1/1\u001b[0m \u001b[32m━━━━━━━━━━━━━━━━━━━━\u001b[0m\u001b[37m\u001b[0m \u001b[1m0s\u001b[0m 268ms/step\n",
      "\u001b[1m1/1\u001b[0m \u001b[32m━━━━━━━━━━━━━━━━━━━━\u001b[0m\u001b[37m\u001b[0m \u001b[1m0s\u001b[0m 253ms/step\n",
      "\u001b[1m1/1\u001b[0m \u001b[32m━━━━━━━━━━━━━━━━━━━━\u001b[0m\u001b[37m\u001b[0m \u001b[1m0s\u001b[0m 250ms/step\n",
      "\u001b[1m1/1\u001b[0m \u001b[32m━━━━━━━━━━━━━━━━━━━━\u001b[0m\u001b[37m\u001b[0m \u001b[1m0s\u001b[0m 268ms/step\n",
      "\u001b[1m1/1\u001b[0m \u001b[32m━━━━━━━━━━━━━━━━━━━━\u001b[0m\u001b[37m\u001b[0m \u001b[1m0s\u001b[0m 251ms/step\n",
      "\u001b[1m1/1\u001b[0m \u001b[32m━━━━━━━━━━━━━━━━━━━━\u001b[0m\u001b[37m\u001b[0m \u001b[1m0s\u001b[0m 252ms/step\n",
      "\u001b[1m1/1\u001b[0m \u001b[32m━━━━━━━━━━━━━━━━━━━━\u001b[0m\u001b[37m\u001b[0m \u001b[1m0s\u001b[0m 307ms/step\n",
      "\u001b[1m1/1\u001b[0m \u001b[32m━━━━━━━━━━━━━━━━━━━━\u001b[0m\u001b[37m\u001b[0m \u001b[1m0s\u001b[0m 408ms/step\n",
      "\u001b[1m1/1\u001b[0m \u001b[32m━━━━━━━━━━━━━━━━━━━━\u001b[0m\u001b[37m\u001b[0m \u001b[1m0s\u001b[0m 267ms/step\n",
      "\u001b[1m1/1\u001b[0m \u001b[32m━━━━━━━━━━━━━━━━━━━━\u001b[0m\u001b[37m\u001b[0m \u001b[1m0s\u001b[0m 379ms/step\n",
      "\u001b[1m1/1\u001b[0m \u001b[32m━━━━━━━━━━━━━━━━━━━━\u001b[0m\u001b[37m\u001b[0m \u001b[1m0s\u001b[0m 277ms/step\n",
      "\u001b[1m1/1\u001b[0m \u001b[32m━━━━━━━━━━━━━━━━━━━━\u001b[0m\u001b[37m\u001b[0m \u001b[1m0s\u001b[0m 315ms/step\n",
      "\u001b[1m1/1\u001b[0m \u001b[32m━━━━━━━━━━━━━━━━━━━━\u001b[0m\u001b[37m\u001b[0m \u001b[1m0s\u001b[0m 246ms/step\n",
      "\u001b[1m1/1\u001b[0m \u001b[32m━━━━━━━━━━━━━━━━━━━━\u001b[0m\u001b[37m\u001b[0m \u001b[1m0s\u001b[0m 268ms/step\n",
      "\u001b[1m1/1\u001b[0m \u001b[32m━━━━━━━━━━━━━━━━━━━━\u001b[0m\u001b[37m\u001b[0m \u001b[1m0s\u001b[0m 255ms/step\n",
      "\u001b[1m1/1\u001b[0m \u001b[32m━━━━━━━━━━━━━━━━━━━━\u001b[0m\u001b[37m\u001b[0m \u001b[1m0s\u001b[0m 279ms/step\n",
      "\u001b[1m1/1\u001b[0m \u001b[32m━━━━━━━━━━━━━━━━━━━━\u001b[0m\u001b[37m\u001b[0m \u001b[1m0s\u001b[0m 252ms/step\n",
      "\u001b[1m1/1\u001b[0m \u001b[32m━━━━━━━━━━━━━━━━━━━━\u001b[0m\u001b[37m\u001b[0m \u001b[1m6s\u001b[0m 6s/step\n",
      "\u001b[1m1/1\u001b[0m \u001b[32m━━━━━━━━━━━━━━━━━━━━\u001b[0m\u001b[37m\u001b[0m \u001b[1m0s\u001b[0m 299ms/step\n",
      "\u001b[1m1/1\u001b[0m \u001b[32m━━━━━━━━━━━━━━━━━━━━\u001b[0m\u001b[37m\u001b[0m \u001b[1m0s\u001b[0m 348ms/step\n",
      "\u001b[1m1/1\u001b[0m \u001b[32m━━━━━━━━━━━━━━━━━━━━\u001b[0m\u001b[37m\u001b[0m \u001b[1m0s\u001b[0m 252ms/step\n",
      "\u001b[1m1/1\u001b[0m \u001b[32m━━━━━━━━━━━━━━━━━━━━\u001b[0m\u001b[37m\u001b[0m \u001b[1m0s\u001b[0m 252ms/step\n",
      "\u001b[1m1/1\u001b[0m \u001b[32m━━━━━━━━━━━━━━━━━━━━\u001b[0m\u001b[37m\u001b[0m \u001b[1m0s\u001b[0m 251ms/step\n",
      "\u001b[1m1/1\u001b[0m \u001b[32m━━━━━━━━━━━━━━━━━━━━\u001b[0m\u001b[37m\u001b[0m \u001b[1m0s\u001b[0m 259ms/step\n",
      "\u001b[1m1/1\u001b[0m \u001b[32m━━━━━━━━━━━━━━━━━━━━\u001b[0m\u001b[37m\u001b[0m \u001b[1m0s\u001b[0m 331ms/step\n",
      "\u001b[1m1/1\u001b[0m \u001b[32m━━━━━━━━━━━━━━━━━━━━\u001b[0m\u001b[37m\u001b[0m \u001b[1m0s\u001b[0m 314ms/step\n",
      "\u001b[1m1/1\u001b[0m \u001b[32m━━━━━━━━━━━━━━━━━━━━\u001b[0m\u001b[37m\u001b[0m \u001b[1m0s\u001b[0m 251ms/step\n",
      "\u001b[1m1/1\u001b[0m \u001b[32m━━━━━━━━━━━━━━━━━━━━\u001b[0m\u001b[37m\u001b[0m \u001b[1m0s\u001b[0m 268ms/step\n",
      "\u001b[1m1/1\u001b[0m \u001b[32m━━━━━━━━━━━━━━━━━━━━\u001b[0m\u001b[37m\u001b[0m \u001b[1m0s\u001b[0m 251ms/step\n",
      "\u001b[1m1/1\u001b[0m \u001b[32m━━━━━━━━━━━━━━━━━━━━\u001b[0m\u001b[37m\u001b[0m \u001b[1m0s\u001b[0m 252ms/step\n",
      "\u001b[1m1/1\u001b[0m \u001b[32m━━━━━━━━━━━━━━━━━━━━\u001b[0m\u001b[37m\u001b[0m \u001b[1m0s\u001b[0m 251ms/step\n",
      "\u001b[1m1/1\u001b[0m \u001b[32m━━━━━━━━━━━━━━━━━━━━\u001b[0m\u001b[37m\u001b[0m \u001b[1m2s\u001b[0m 2s/step\n",
      "Scene: [\"3: 'tiger shark, Galeocerdo cuvieri',\", \"147: 'grey whale, gray whale, devilfish, Eschrichtius gibbosus, Eschrichtius robustus',\", \"285: 'Egyptian cat',\", \"285: 'Egyptian cat',\", \"285: 'Egyptian cat',\", \"285: 'Egyptian cat',\", \"285: 'Egyptian cat',\", \"871: 'trimaran',\", \"871: 'trimaran',\", \"285: 'Egyptian cat',\", \"285: 'Egyptian cat',\", \"285: 'Egyptian cat',\", \"285: 'Egyptian cat',\", \"285: 'Egyptian cat',\", \"285: 'Egyptian cat',\", \"285: 'Egyptian cat',\", \"285: 'Egyptian cat',\", \"285: 'Egyptian cat',\", \"285: 'Egyptian cat',\", \"285: 'Egyptian cat',\", \"285: 'Egyptian cat',\", \"285: 'Egyptian cat',\", \"285: 'Egyptian cat',\", \"285: 'Egyptian cat',\", \"285: 'Egyptian cat',\", \"285: 'Egyptian cat',\", \"243: 'bull mastiff',\", \"150: 'sea lion',\", \"281: 'tabby, tabby cat',\", \"285: 'Egyptian cat',\", \"285: 'Egyptian cat',\", \"285: 'Egyptian cat',\"] | Action: 916: 'web site, website, internet site, site', | Caption: a cat laying on top of a blanket on a bed \n",
      "Scene: [\"285: 'Egyptian cat',\", \"285: 'Egyptian cat',\", \"285: 'Egyptian cat',\", \"172: 'whippet',\", \"591: 'handkerchief, hankie, hanky, hankey',\", \"285: 'Egyptian cat',\", \"285: 'Egyptian cat',\", \"285: 'Egyptian cat',\", \"285: 'Egyptian cat',\", \"728: 'plastic bag',\", \"285: 'Egyptian cat',\", \"285: 'Egyptian cat',\", \"285: 'Egyptian cat',\"] | Action: 916: 'web site, website, internet site, site', | Caption: a cat that is laying down on a blanket \n"
     ]
    }
   ],
   "source": [
    "video_path = \"D:/vid/VID20220120171416.mp4\"\n",
    "caption = process_video(video_path)\n",
    "print(caption)"
   ]
  },
  {
   "cell_type": "code",
   "execution_count": null,
   "id": "0b41f7a7",
   "metadata": {},
   "outputs": [],
   "source": []
  }
 ],
 "metadata": {
  "kernelspec": {
   "display_name": "Python 3 (ipykernel)",
   "language": "python",
   "name": "python3"
  },
  "language_info": {
   "codemirror_mode": {
    "name": "ipython",
    "version": 3
   },
   "file_extension": ".py",
   "mimetype": "text/x-python",
   "name": "python",
   "nbconvert_exporter": "python",
   "pygments_lexer": "ipython3",
   "version": "3.9.19"
  }
 },
 "nbformat": 4,
 "nbformat_minor": 5
}
